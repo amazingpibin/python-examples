{
 "cells": [
  {
   "cell_type": "code",
   "execution_count": 20,
   "metadata": {},
   "outputs": [
    {
     "name": "stderr",
     "output_type": "stream",
     "text": [
      "[nltk_data] Downloading package gutenberg to\n",
      "[nltk_data]     C:\\Users\\WA2_TK\\AppData\\Roaming\\nltk_data...\n",
      "[nltk_data]   Package gutenberg is already up-to-date!\n",
      "[nltk_data] Downloading package punkt to\n",
      "[nltk_data]     C:\\Users\\WA2_TK\\AppData\\Roaming\\nltk_data...\n",
      "[nltk_data]   Package punkt is already up-to-date!\n",
      "[nltk_data] Downloading package averaged_perceptron_tagger to\n",
      "[nltk_data]     C:\\Users\\WA2_TK\\AppData\\Roaming\\nltk_data...\n",
      "[nltk_data]   Package averaged_perceptron_tagger is already up-to-\n",
      "[nltk_data]       date!\n",
      "[nltk_data] Downloading package wordnet to\n",
      "[nltk_data]     C:\\Users\\WA2_TK\\AppData\\Roaming\\nltk_data...\n",
      "[nltk_data]   Package wordnet is already up-to-date!\n"
     ]
    },
    {
     "data": {
      "text/plain": [
       "True"
      ]
     },
     "execution_count": 20,
     "metadata": {},
     "output_type": "execute_result"
    }
   ],
   "source": [
    "import nltk\n",
    "from nltk.corpus import gutenberg\n",
    "from nltk.tokenize import word_tokenize, sent_tokenize\n",
    "from nltk.corpus import stopwords\n",
    "from nltk import FreqDist\n",
    "from nltk.stem import WordNetLemmatizer\n",
    "import string\n",
    "import matplotlib.pyplot as plt\n",
    "from nltk import pos_tag\n",
    "\n",
    "nltk.download('gutenberg')\n",
    "nltk.download('punkt')\n",
    "nltk.download ('averaged_perceptron_tagger')\n",
    "nltk.download('wordnet')\n"
   ]
  },
  {
   "cell_type": "code",
   "execution_count": 4,
   "metadata": {},
   "outputs": [],
   "source": [
    "import re\n",
    "moby_dick = gutenberg.raw('melville-moby_dick.txt')\n",
    "tokens = word_tokenize(moby_dick)\n",
    "tokens = [token for token in tokens if token not in string.punctuation]\n",
    "tokens = [token for token in tokens if not re.match(r\"[-'`]|'s'\\d\", token)]\n"
   ]
  },
  {
   "cell_type": "code",
   "execution_count": 5,
   "metadata": {},
   "outputs": [
    {
     "name": "stderr",
     "output_type": "stream",
     "text": [
      "[nltk_data] Downloading package stopwords to\n",
      "[nltk_data]     C:\\Users\\WA2_TK\\AppData\\Roaming\\nltk_data...\n",
      "[nltk_data]   Package stopwords is already up-to-date!\n"
     ]
    }
   ],
   "source": [
    "# Stopwords filtering\n",
    "from nltk.corpus import stopwords\n",
    "nltk.download('stopwords')\n",
    "\n",
    "stop_words = set(stopwords.words('english'))\n",
    "filtered_tokens = [token for token in tokens if token.lower() not in stop_words ]\n"
   ]
  },
  {
   "cell_type": "code",
   "execution_count": 6,
   "metadata": {},
   "outputs": [
    {
     "name": "stdout",
     "output_type": "stream",
     "text": [
      "<FreqDist with 34 samples and 108470 outcomes>\n"
     ]
    },
    {
     "data": {
      "text/plain": [
       "[('NN', 27041), ('JJ', 20512), ('NNP', 10509), ('NNS', 10173), ('RB', 8525)]"
      ]
     },
     "execution_count": 6,
     "metadata": {},
     "output_type": "execute_result"
    }
   ],
   "source": [
    "\n",
    "pos_tags = nltk.pos_tag(filtered_tokens)\n",
    "\n",
    "# POS frequency\n",
    "pos_freq = FreqDist([tag[1] for tag in pos_tags])\n",
    "print(pos_freq)\n",
    "most_common_pos = pos_freq.most_common(5)\n",
    "most_common_pos"
   ]
  },
  {
   "cell_type": "code",
   "execution_count": 7,
   "metadata": {},
   "outputs": [
    {
     "name": "stdout",
     "output_type": "stream",
     "text": [
      "['one', 'like', 'upon', 'Ahab', 'man', 'old', 'would', 'whale', 'whale', 'sea', 'though', 'time', 'say', 'ship', 'still', 'yet', 'great', 'must', 'two', 'last']\n"
     ]
    }
   ],
   "source": [
    "from nltk.stem import WordNetLemmatizer\n",
    "import string\n",
    "from collections import Counter\n",
    "\n",
    "# Define a mapping of POS tags from pos_tag to WordNetLemmatizer\n",
    "pos_tag_mapping = {\n",
    "    'NNS': 'n',  # Noun, plural\n",
    "    'VBG': 'v',  # Verb, gerund or present participle\n",
    "    'NN': 'n',   # Noun, singular or mass\n",
    "    'VBD': 'v',  # Verb, past tense\n",
    "    'VBN': 'v',  # Verb, past participle\n",
    "    'JJ': 'a',   # Adjective\n",
    "    'VBZ': 'v',  # Verb, 3rd person singular present\n",
    "    'VBP': 'v',  # Verb, non-3rd person singular present\n",
    "    'RB': 'r',   # Adverb\n",
    "    'NNP': 'n',  # Proper noun, singular\n",
    "    'VB': 'v',   # Verb, base form\n",
    "    'IN': 'n',   # Preposition or subordinating conjunction\n",
    "    'PRP': 'n',  # Personal pronoun\n",
    "    'PRP$': 'n', # Possessive pronoun\n",
    "    'JJR': 'a',  # Adjective, comparative\n",
    "    'JJS': 'a',  # Adjective, superlative\n",
    "    'CD': 'n',   # Cardinal number\n",
    "    'MD': 'v',   # Modal\n",
    "    'VBG': 'v',  # Verb, gerund or present participle\n",
    "    'RBR': 'r',  # Adverb, comparative\n",
    "    'RBS': 'r',  # Adverb, superlative\n",
    "    'WP': 'n',   # Wh-pronoun\n",
    "    'WRB': 'r',  # Wh-adverb\n",
    "    ':': 'n',    # Colon\n",
    "    \"''\": 'n',   # Closing quotation mark\n",
    "    '``': 'n',   # Opening quotation mark\n",
    "    'like': 'n', # Inexact numeric modifier\n",
    "    'POS' : 'n', # Possessive ending\n",
    "}\n",
    "\n",
    "# Assuming you have already defined 'pos_tagged_tokens' list\n",
    "\n",
    "# Extract the top 20 tokens\n",
    "top_20_tokens = Counter(pos_tags).most_common(20)\n",
    "\n",
    "# Create a lemmatizer instance\n",
    "lemmatizer = WordNetLemmatizer()\n",
    "\n",
    "# Lemmatize the top 20 tokens and remove punctuation\n",
    "lemmatized_tokens = [lemmatizer.lemmatize(token, pos=pos_tag_mapping[pos]) for (token, pos), count in top_20_tokens if pos in pos_tag_mapping ]\n",
    "\n",
    "# Print the lemmatized tokens\n",
    "print(lemmatized_tokens)"
   ]
  },
  {
   "cell_type": "code",
   "execution_count": 8,
   "metadata": {},
   "outputs": [
    {
     "data": {
      "image/png": "[encoded data removed]",
      "text/plain": [
       "<Figure size 640x480 with 1 Axes>"
      ]
     },
     "metadata": {},
     "output_type": "display_data"
    }
   ],
   "source": [
    "plt.bar(pos_freq.keys(), pos_freq.values())\n",
    "plt.show()\n"
   ]
  },
  {
   "cell_type": "code",
   "execution_count": 26,
   "metadata": {},
   "outputs": [
    {
     "name": "stderr",
     "output_type": "stream",
     "text": [
      "[nltk_data] Downloading package vader_lexicon to\n",
      "[nltk_data]     C:\\Users\\WA2_TK\\AppData\\Roaming\\nltk_data...\n",
      "[nltk_data]   Package vader_lexicon is already up-to-date!\n"
     ]
    },
    {
     "name": "stdout",
     "output_type": "stream",
     "text": [
      "Average Sentiment Score: 0.02643698741372306\n",
      "Overall Text Sentiment: negative\n"
     ]
    }
   ],
   "source": [
    "import nltk\n",
    "from nltk.sentiment.vader import SentimentIntensityAnalyzer\n",
    "from nltk.tokenize import sent_tokenize\n",
    "\n",
    "nltk.download('vader_lexicon')\n",
    "\n",
    "sia = SentimentIntensityAnalyzer()\n",
    "sentence = sent_tokenize(moby_dick)\n",
    "\n",
    "# Calculating the sentiment score for each sentence\n",
    "score = 0\n",
    "for s in sentence:\n",
    "    score += sia.polarity_scores(s)['compound']\n",
    "score = score / len(sentence)\n",
    "# Determining the overall sentiment\n",
    "if score > 0.05:\n",
    "    overall_sentiment = 'positive'\n",
    "elif score <= 0.05:\n",
    "    overall_sentiment = 'negative'\n",
    "\n",
    "print(\"Average Sentiment Score:\", score)\n",
    "print(\"Overall Text Sentiment:\", overall_sentiment)"
   ]
  }
 ],
 "metadata": {
  "kernelspec": {
   "display_name": "yd",
   "language": "python",
   "name": "python3"
  },
  "language_info": {
   "codemirror_mode": {
    "name": "ipython",
    "version": 3
   },
   "file_extension": ".py",
   "mimetype": "text/x-python",
   "name": "python",
   "nbconvert_exporter": "python",
   "pygments_lexer": "ipython3",
   "version": "3.9.13"
  },
  "orig_nbformat": 4
 },
 "nbformat": 4,
 "nbformat_minor": 2
}
